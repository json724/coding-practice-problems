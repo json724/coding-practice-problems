{
 "cells": [
  {
   "cell_type": "code",
   "execution_count": 39,
   "metadata": {
    "collapsed": false
   },
   "outputs": [],
   "source": [
    "import numpy as np"
   ]
  },
  {
   "cell_type": "code",
   "execution_count": 40,
   "metadata": {
    "collapsed": false
   },
   "outputs": [],
   "source": [
    "def bubble_sort(v):\n",
    "    for i in range(0,len(v)):\n",
    "        for j in range(i+1,len(v)):\n",
    "            if v[i] > v[j]:    \n",
    "                v[i], v[j] = v[j], v[i]\n",
    "    return v    "
   ]
  },
  {
   "cell_type": "code",
   "execution_count": 61,
   "metadata": {
    "collapsed": true
   },
   "outputs": [],
   "source": [
    "def cocktail_sort_sp(v):\n",
    "    h = 0\n",
    "    f = 0\n",
    "    b = 0\n",
    "    j = 0\n",
    "    k = len(v)-1\n",
    "    while j <= k:\n",
    "        h += 1\n",
    "        for i in range(j,k,1):\n",
    "            f += 1\n",
    "            if v[i] > v[i+1]:\n",
    "                v[i], v[i+1] = v[i+1], v[i]\n",
    "        for i in range(k-1,j,-1):\n",
    "            b += 1\n",
    "            if v[i] < v[i-1]:\n",
    "                v[i], v[i-1] = v[i-1], v[i]\n",
    "        j += 1\n",
    "        k -= 1\n",
    "    \n",
    "    print(h,f,b)\n",
    "    return v"
   ]
  },
  {
   "cell_type": "code",
   "execution_count": 42,
   "metadata": {
    "collapsed": false
   },
   "outputs": [],
   "source": [
    "def list_merge(l1,l2):\n",
    "    merged_list = []\n",
    "    i = 0\n",
    "    j = 0\n",
    "    while i<len(l1) and j<len(l2):\n",
    "        \n",
    "        if l1[i] < l2[j]:\n",
    "            merged_list.append(l1[i])\n",
    "            i += 1\n",
    "        else:\n",
    "            if l1[i] > l2[j]:\n",
    "                merged_list.append(l2[j])\n",
    "                j += 1\n",
    "            else:\n",
    "                merged_list.append(l1[i])\n",
    "                merged_list.append(l2[j])\n",
    "                i += 1\n",
    "                j += 1\n",
    "    while i<len(l1):\n",
    "        merged_list.append(l1[i])\n",
    "        i += 1\n",
    "    while j<len(l2):\n",
    "        merged_list.append(l2[j])\n",
    "        j += 1\n",
    "    \n",
    "    return merged_list\n",
    "\n",
    "def merge_sort(l):\n",
    "    def divide(l):\n",
    "        ln = len(l)\n",
    "        if ln == 1 :\n",
    "            return l\n",
    "        else:\n",
    "            l1 = divide(l[:ln//2])\n",
    "            l2 = divide(l[ln//2:ln])\n",
    "            return list_merge(l1,l2)\n",
    "        \n",
    "    return divide(l)"
   ]
  },
  {
   "cell_type": "code",
   "execution_count": 60,
   "metadata": {
    "collapsed": false
   },
   "outputs": [],
   "source": [
    "def cocktail_sort(list_):\n",
    "    h = 0\n",
    "    f = 0\n",
    "    b = 0\n",
    "    \"\"\"bubble sort but in both directions\"\"\"\n",
    "    n = len(list_)\n",
    "    for k in range(1, n):\n",
    "        h += 1\n",
    "        #from left to right\n",
    "        for i in range(k - 1, n - k):\n",
    "            f += 1\n",
    "            if list_[i] > list_[i+1]:\n",
    "                list_[i], list_[i+1] = list_[i+1], list_[i]\n",
    "        #from right to left\n",
    "        for i in reversed(range(k, n - k)):\n",
    "            b += 1\n",
    "            if list_[i] < list_[i-1]:\n",
    "                list_[i], list_[i-1] = list_[i-1], list_[i]\n",
    "\n",
    "    print(h,f,b)\n",
    "    return list_"
   ]
  },
  {
   "cell_type": "code",
   "execution_count": 63,
   "metadata": {
    "collapsed": false
   },
   "outputs": [
    {
     "name": "stdout",
     "output_type": "stream",
     "text": [
      "2048 4194304 4192256\n",
      "4095 4194304 4192256\n"
     ]
    }
   ],
   "source": [
    "a = cocktail_sort_sp(v1)\n",
    "b = cocktail_sort(v1)"
   ]
  },
  {
   "cell_type": "code",
   "execution_count": 62,
   "metadata": {
    "collapsed": false
   },
   "outputs": [],
   "source": [
    "v1 = np.random.randint(50, size=4096)"
   ]
  },
  {
   "cell_type": "code",
   "execution_count": 44,
   "metadata": {
    "collapsed": false
   },
   "outputs": [
    {
     "name": "stdout",
     "output_type": "stream",
     "text": [
      "1 loops, best of 3: 25.1 s per loop\n"
     ]
    }
   ],
   "source": [
    "%timeit bubble_sort(v1)"
   ]
  },
  {
   "cell_type": "code",
   "execution_count": 49,
   "metadata": {
    "collapsed": false
   },
   "outputs": [
    {
     "name": "stdout",
     "output_type": "stream",
     "text": [
      "1 loops, best of 3: 28.2 s per loop\n"
     ]
    }
   ],
   "source": [
    "%timeit cocktail_sort(v1)"
   ]
  },
  {
   "cell_type": "code",
   "execution_count": 46,
   "metadata": {
    "collapsed": false
   },
   "outputs": [
    {
     "name": "stdout",
     "output_type": "stream",
     "text": [
      "10 loops, best of 3: 130 ms per loop\n"
     ]
    }
   ],
   "source": [
    "%timeit merge_sort(v1)"
   ]
  },
  {
   "cell_type": "code",
   "execution_count": 65,
   "metadata": {
    "collapsed": false
   },
   "outputs": [
    {
     "data": {
      "text/plain": [
       "17175674880"
      ]
     },
     "execution_count": 65,
     "metadata": {},
     "output_type": "execute_result"
    }
   ],
   "source": [
    "(2048*4194304)+(2048*4192256)"
   ]
  }
 ],
 "metadata": {
  "kernelspec": {
   "display_name": "Python 3",
   "language": "python",
   "name": "python3"
  },
  "language_info": {
   "codemirror_mode": {
    "name": "ipython",
    "version": 3
   },
   "file_extension": ".py",
   "mimetype": "text/x-python",
   "name": "python",
   "nbconvert_exporter": "python",
   "pygments_lexer": "ipython3",
   "version": "3.6.5"
  }
 },
 "nbformat": 4,
 "nbformat_minor": 2
}
